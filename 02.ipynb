{
 "cells": [
  {
   "cell_type": "markdown",
   "id": "047442b8-1b96-4e80-8e08-eaec9f1f56e7",
   "metadata": {},
   "source": [
    "Модуль 1. Часть 1."
   ]
  },
  {
   "cell_type": "markdown",
   "id": "f16be4e2-3f06-4226-9aa8-9d80b5b29ae3",
   "metadata": {},
   "source": [
    "Уровень 1"
   ]
  },
  {
   "cell_type": "code",
   "execution_count": 2,
   "id": "9cc46eb1-ce55-4dbe-b969-3ea76c006826",
   "metadata": {},
   "outputs": [
    {
     "name": "stdout",
     "output_type": "stream",
     "text": [
      "значение выражения: 0.038580246913580245\n"
     ]
    }
   ],
   "source": [
    "value = (5+(7*5/8))/3**5\n",
    "print('значение выражения:', value)"
   ]
  },
  {
   "cell_type": "markdown",
   "id": "88ffc3d0-546d-4dfb-9ccf-d4cd195ec482",
   "metadata": {},
   "source": [
    "Уровень 2"
   ]
  },
  {
   "cell_type": "code",
   "execution_count": 4,
   "id": "fd4c5ec6-8fbd-4d82-afd4-b0a69fd6cbc2",
   "metadata": {},
   "outputs": [
    {
     "name": "stdin",
     "output_type": "stream",
     "text": [
      " 120\n",
      " 2\n"
     ]
    },
    {
     "name": "stdout",
     "output_type": "stream",
     "text": [
      "22\n"
     ]
    }
   ],
   "source": [
    "v=int(input())\n",
    "t=int(input())\n",
    "s=v*t\n",
    "if s<= 109:\n",
    "    print(s)\n",
    "elif s> 109:\n",
    "    print(s%109)"
   ]
  },
  {
   "cell_type": "markdown",
   "id": "f360734d-1e11-405f-9cec-b6d407ef1e20",
   "metadata": {},
   "source": [
    "Уровень 3"
   ]
  },
  {
   "cell_type": "code",
   "execution_count": 5,
   "id": "9f27337d-f47b-465a-a86d-61701fbf2569",
   "metadata": {},
   "outputs": [
    {
     "name": "stdin",
     "output_type": "stream",
     "text": [
      " -9\n",
      " -100\n"
     ]
    },
    {
     "name": "stdout",
     "output_type": "stream",
     "text": [
      "-9\n"
     ]
    }
   ],
   "source": [
    "a=(input())\n",
    "b=(input())\n",
    "max1=(a>b)*a + (b>=a)*b\n",
    "print(max1)"
   ]
  }
 ],
 "metadata": {
  "kernelspec": {
   "display_name": "Python 3 (ipykernel)",
   "language": "python",
   "name": "python3"
  },
  "language_info": {
   "codemirror_mode": {
    "name": "ipython",
    "version": 3
   },
   "file_extension": ".py",
   "mimetype": "text/x-python",
   "name": "python",
   "nbconvert_exporter": "python",
   "pygments_lexer": "ipython3",
   "version": "3.9.13"
  }
 },
 "nbformat": 4,
 "nbformat_minor": 5
}
