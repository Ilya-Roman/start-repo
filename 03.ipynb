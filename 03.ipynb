{
 "cells": [
  {
   "cell_type": "markdown",
   "id": "29f5a3e9-3a69-4163-a616-630e82422228",
   "metadata": {},
   "source": [
    "HT 2"
   ]
  },
  {
   "cell_type": "markdown",
   "id": "1a38cf5a-96ca-401b-a20e-87151aee09e4",
   "metadata": {},
   "source": [
    "Уровень 1."
   ]
  },
  {
   "cell_type": "code",
   "execution_count": 24,
   "id": "4c01f65c-7642-4d39-b43f-9d89e1b5dd5f",
   "metadata": {},
   "outputs": [
    {
     "name": "stdin",
     "output_type": "stream",
     "text": [
      " 1\n",
      " 1\n",
      " 1\n"
     ]
    },
    {
     "name": "stdout",
     "output_type": "stream",
     "text": [
      "3\n"
     ]
    }
   ],
   "source": [
    "x1=int(input())\n",
    "x2=int(input())\n",
    "x3=int(input())\n",
    "if (x1==x2==x3):\n",
    "    print('3')\n",
    "elif (x1==x2):\n",
    "    print('2')\n",
    "elif (x2==x3):\n",
    "    print('2')\n",
    "elif (x1==x3):\n",
    "    print('2')\n",
    "else:\n",
    "    print('0')"
   ]
  },
  {
   "cell_type": "markdown",
   "id": "ff6d42b3-19f7-411b-9098-22ea9c3d7330",
   "metadata": {},
   "source": [
    "Уровень 2."
   ]
  },
  {
   "cell_type": "code",
   "execution_count": 23,
   "id": "b93c3be7-ff5b-421c-97ee-f733d13ab0d3",
   "metadata": {},
   "outputs": [
    {
     "name": "stdin",
     "output_type": "stream",
     "text": [
      " 1\n",
      " 2\n",
      " 3\n",
      " 3\n"
     ]
    },
    {
     "name": "stdout",
     "output_type": "stream",
     "text": [
      "NO\n"
     ]
    }
   ],
   "source": [
    "x1=int(input())\n",
    "if 0<(x1)>=8:\n",
    "    print('введите число от 1 до 8')\n",
    "    x1=int(input())\n",
    "y1=int(input())\n",
    "if 0<(y1)>=8:\n",
    "    print('введите число от 1 до 8')\n",
    "    y1=int(input())\n",
    "x2=int(input())\n",
    "if 0<(x2)>=8:\n",
    "    print('введите число от 1 до 8')\n",
    "    x2=int(input())\n",
    "y2=int(input())\n",
    "if 0<(y2)>=8:\n",
    "    print('введите число от 1 до 8')\n",
    "    y2=int(input())\n",
    "    \n",
    "if (x1==x2):\n",
    "    print('YES')\n",
    "elif (y1==y2):\n",
    "    print('YES')\n",
    "elif (x1==y2):\n",
    "    print('YES')\n",
    "else:\n",
    "    print('NO')"
   ]
  },
  {
   "cell_type": "markdown",
   "id": "72f361c8-0ee1-40de-9498-bfc60cfd04eb",
   "metadata": {},
   "source": [
    "Уровень 3. (НЕ РЕШИЛ)"
   ]
  },
  {
   "cell_type": "code",
   "execution_count": null,
   "id": "b9570ad3-2f73-4f0f-91f2-3b9e5687bf80",
   "metadata": {},
   "outputs": [],
   "source": [
    "pass1=str(input())\n",
    "while pass1 == len(pass1)>8 & len(capitalize(pass1))<=8 & len(lower(pass1))<=8:\n",
    "    print ('Correct:', pass1)\n",
    "else:\n",
    "    print ('No correct:', pass1)"
   ]
  }
 ],
 "metadata": {
  "kernelspec": {
   "display_name": "Python 3 (ipykernel)",
   "language": "python",
   "name": "python3"
  },
  "language_info": {
   "codemirror_mode": {
    "name": "ipython",
    "version": 3
   },
   "file_extension": ".py",
   "mimetype": "text/x-python",
   "name": "python",
   "nbconvert_exporter": "python",
   "pygments_lexer": "ipython3",
   "version": "3.9.13"
  }
 },
 "nbformat": 4,
 "nbformat_minor": 5
}
